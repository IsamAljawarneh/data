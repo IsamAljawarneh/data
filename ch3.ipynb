{
  "nbformat": 4,
  "nbformat_minor": 0,
  "metadata": {
    "colab": {
      "provenance": [],
      "authorship_tag": "ABX9TyMKN1jMDc35t+Btc0A1s+FM",
      "include_colab_link": true
    },
    "kernelspec": {
      "name": "python3",
      "display_name": "Python 3"
    },
    "language_info": {
      "name": "python"
    }
  },
  "cells": [
    {
      "cell_type": "markdown",
      "metadata": {
        "id": "view-in-github",
        "colab_type": "text"
      },
      "source": [
        "<a href=\"https://colab.research.google.com/github/IsamAljawarneh/data/blob/master/ch3.ipynb\" target=\"_parent\"><img src=\"https://colab.research.google.com/assets/colab-badge.svg\" alt=\"Open In Colab\"/></a>"
      ]
    },
    {
      "cell_type": "code",
      "execution_count": 1,
      "metadata": {
        "colab": {
          "base_uri": "https://localhost:8080/"
        },
        "id": "OAQK-9i5TD_Z",
        "outputId": "eb289423-609f-4f12-859b-160ed034a166"
      },
      "outputs": [
        {
          "output_type": "execute_result",
          "data": {
            "text/plain": [
              "2"
            ]
          },
          "metadata": {},
          "execution_count": 1
        }
      ],
      "source": [
        "x = 2\n",
        "x"
      ]
    },
    {
      "cell_type": "markdown",
      "source": [
        "# part1\n",
        "- this is first\n",
        "  - this is deeper\n",
        "  "
      ],
      "metadata": {
        "id": "mHHRmJXRTi-0"
      }
    },
    {
      "cell_type": "code",
      "source": [],
      "metadata": {
        "id": "e9LGVxCiTh9C"
      },
      "execution_count": null,
      "outputs": []
    }
  ]
}